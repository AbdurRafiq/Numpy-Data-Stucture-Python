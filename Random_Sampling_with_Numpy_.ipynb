{
  "nbformat": 4,
  "nbformat_minor": 0,
  "metadata": {
    "kernelspec": {
      "display_name": "Python 3",
      "language": "python",
      "name": "python3"
    },
    "language_info": {
      "codemirror_mode": {
        "name": "ipython",
        "version": 3
      },
      "file_extension": ".py",
      "mimetype": "text/x-python",
      "name": "python",
      "nbconvert_exporter": "python",
      "pygments_lexer": "ipython3",
      "version": "3.6.5"
    },
    "colab": {
      "name": "Random Sampling with Numpy .ipynb",
      "provenance": [],
      "include_colab_link": true
    }
  },
  "cells": [
    {
      "cell_type": "markdown",
      "metadata": {
        "id": "view-in-github",
        "colab_type": "text"
      },
      "source": [
        "<a href=\"https://colab.research.google.com/github/AbdurRafiq/Numpy-Data-Stucture-Python/blob/master/Random_Sampling_with_Numpy_.ipynb\" target=\"_parent\"><img src=\"https://colab.research.google.com/assets/colab-badge.svg\" alt=\"Open In Colab\"/></a>"
      ]
    },
    {
      "cell_type": "code",
      "metadata": {
        "id": "JydsYBwdQvRc",
        "colab_type": "code",
        "colab": {}
      },
      "source": [
        "import numpy as np\n",
        "import random"
      ],
      "execution_count": 0,
      "outputs": []
    },
    {
      "cell_type": "code",
      "metadata": {
        "id": "7HC7NddKQvRi",
        "colab_type": "code",
        "colab": {},
        "outputId": "6545bd76-b2e3-4e2b-be48-d54de831edde"
      },
      "source": [
        "np.random.random(4)"
      ],
      "execution_count": 0,
      "outputs": [
        {
          "output_type": "execute_result",
          "data": {
            "text/plain": [
              "array([0.49440498, 0.31675102, 0.68602104, 0.03432312])"
            ]
          },
          "metadata": {
            "tags": []
          },
          "execution_count": 3
        }
      ]
    },
    {
      "cell_type": "code",
      "metadata": {
        "id": "3OxmadULQvRm",
        "colab_type": "code",
        "colab": {},
        "outputId": "8da0cc73-d5ff-4610-bc55-71cbec67db46"
      },
      "source": [
        "np.random.random((3,3))"
      ],
      "execution_count": 0,
      "outputs": [
        {
          "output_type": "execute_result",
          "data": {
            "text/plain": [
              "array([[0.61242521, 0.92309544, 0.68925371],\n",
              "       [0.49115329, 0.52007049, 0.42426305],\n",
              "       [0.93855585, 0.76505202, 0.66174237]])"
            ]
          },
          "metadata": {
            "tags": []
          },
          "execution_count": 4
        }
      ]
    },
    {
      "cell_type": "code",
      "metadata": {
        "id": "lyxcc09GQvRq",
        "colab_type": "code",
        "colab": {},
        "outputId": "022f7786-b515-4424-a0b5-eafd4ff00d81"
      },
      "source": [
        "# for int value\n",
        "np.random.randint(1,4)"
      ],
      "execution_count": 0,
      "outputs": [
        {
          "output_type": "execute_result",
          "data": {
            "text/plain": [
              "1"
            ]
          },
          "metadata": {
            "tags": []
          },
          "execution_count": 5
        }
      ]
    },
    {
      "cell_type": "code",
      "metadata": {
        "id": "PhaeGeK_QvRt",
        "colab_type": "code",
        "colab": {},
        "outputId": "41cc8072-309b-4d95-a8d1-78359326aeab"
      },
      "source": [
        "np.random.randint(1,4,(4,4))"
      ],
      "execution_count": 0,
      "outputs": [
        {
          "output_type": "execute_result",
          "data": {
            "text/plain": [
              "array([[1, 1, 1, 3],\n",
              "       [3, 1, 3, 1],\n",
              "       [3, 3, 1, 3],\n",
              "       [1, 1, 2, 3]])"
            ]
          },
          "metadata": {
            "tags": []
          },
          "execution_count": 6
        }
      ]
    },
    {
      "cell_type": "code",
      "metadata": {
        "id": "HOI0Kx_nQvRx",
        "colab_type": "code",
        "colab": {},
        "outputId": "894d0cb0-2bf8-4076-eb54-108e7acc2737"
      },
      "source": [
        "np.random.randint(1,4,(2,4,4))"
      ],
      "execution_count": 0,
      "outputs": [
        {
          "output_type": "execute_result",
          "data": {
            "text/plain": [
              "array([[[3, 1, 2, 2],\n",
              "        [2, 2, 2, 3],\n",
              "        [3, 1, 3, 3],\n",
              "        [3, 2, 1, 3]],\n",
              "\n",
              "       [[1, 2, 3, 3],\n",
              "        [2, 3, 2, 3],\n",
              "        [2, 3, 1, 1],\n",
              "        [1, 3, 1, 3]]])"
            ]
          },
          "metadata": {
            "tags": []
          },
          "execution_count": 7
        }
      ]
    },
    {
      "cell_type": "code",
      "metadata": {
        "id": "vR0XaR-KQvR2",
        "colab_type": "code",
        "colab": {},
        "outputId": "37b82dde-259b-47f8-dfee-4b64ad90161d"
      },
      "source": [
        "np.random.seed(10)\n",
        "np.random.randint(1,4,(2,4,4))"
      ],
      "execution_count": 0,
      "outputs": [
        {
          "output_type": "execute_result",
          "data": {
            "text/plain": [
              "array([[[2, 2, 1, 1],\n",
              "        [2, 1, 2, 2],\n",
              "        [1, 2, 2, 3],\n",
              "        [1, 2, 1, 3]],\n",
              "\n",
              "       [[1, 3, 1, 1],\n",
              "        [1, 3, 1, 3],\n",
              "        [3, 2, 1, 1],\n",
              "        [3, 2, 3, 2]]])"
            ]
          },
          "metadata": {
            "tags": []
          },
          "execution_count": 8
        }
      ]
    },
    {
      "cell_type": "code",
      "metadata": {
        "id": "ej66R1uTQvR7",
        "colab_type": "code",
        "colab": {},
        "outputId": "41aa504f-4dbf-4af5-92db-08ea6a6b2692"
      },
      "source": [
        "np.random.seed(10)\n",
        "np.random.randint(1,4,(2,4,4))"
      ],
      "execution_count": 0,
      "outputs": [
        {
          "output_type": "execute_result",
          "data": {
            "text/plain": [
              "array([[[2, 2, 1, 1],\n",
              "        [2, 1, 2, 2],\n",
              "        [1, 2, 2, 3],\n",
              "        [1, 2, 1, 3]],\n",
              "\n",
              "       [[1, 3, 1, 1],\n",
              "        [1, 3, 1, 3],\n",
              "        [3, 2, 1, 1],\n",
              "        [3, 2, 3, 2]]])"
            ]
          },
          "metadata": {
            "tags": []
          },
          "execution_count": 9
        }
      ]
    },
    {
      "cell_type": "code",
      "metadata": {
        "id": "S-0IxbE4QvR-",
        "colab_type": "code",
        "colab": {}
      },
      "source": [
        "np.random.seed(10)"
      ],
      "execution_count": 0,
      "outputs": []
    },
    {
      "cell_type": "code",
      "metadata": {
        "id": "0uA-z2gvQvSD",
        "colab_type": "code",
        "colab": {},
        "outputId": "8fa52dc3-04b4-4e4d-be61-3a8e1291bcfa"
      },
      "source": [
        "np.random.randn(3)"
      ],
      "execution_count": 0,
      "outputs": [
        {
          "output_type": "execute_result",
          "data": {
            "text/plain": [
              "array([ 0.00429143, -0.17460021,  0.43302619])"
            ]
          },
          "metadata": {
            "tags": []
          },
          "execution_count": 13
        }
      ]
    },
    {
      "cell_type": "code",
      "metadata": {
        "id": "-GYu7mQpQvSG",
        "colab_type": "code",
        "colab": {},
        "outputId": "23d01516-f2ee-46af-d8d6-749d46906e21"
      },
      "source": [
        "np.random.randn(3,3)"
      ],
      "execution_count": 0,
      "outputs": [
        {
          "output_type": "execute_result",
          "data": {
            "text/plain": [
              "array([[ 1.20303737, -0.96506567,  1.02827408],\n",
              "       [ 0.22863013,  0.44513761, -1.13660221],\n",
              "       [ 0.13513688,  1.484537  , -1.07980489]])"
            ]
          },
          "metadata": {
            "tags": []
          },
          "execution_count": 14
        }
      ]
    },
    {
      "cell_type": "code",
      "metadata": {
        "id": "b7Iz23jnQvSK",
        "colab_type": "code",
        "colab": {},
        "outputId": "f1e05946-2314-4eb5-cf75-85a01c68b559"
      },
      "source": [
        "x = [1,2,3,4]\n",
        "\n",
        "np.random.choice(3)"
      ],
      "execution_count": 0,
      "outputs": [
        {
          "output_type": "execute_result",
          "data": {
            "text/plain": [
              "1"
            ]
          },
          "metadata": {
            "tags": []
          },
          "execution_count": 18
        }
      ]
    },
    {
      "cell_type": "code",
      "metadata": {
        "id": "kJ1536TWQvSO",
        "colab_type": "code",
        "colab": {},
        "outputId": "d74734e1-6c10-4e90-d84b-3eb00045c262"
      },
      "source": [
        "np.random.choice(3)"
      ],
      "execution_count": 0,
      "outputs": [
        {
          "output_type": "execute_result",
          "data": {
            "text/plain": [
              "1"
            ]
          },
          "metadata": {
            "tags": []
          },
          "execution_count": 20
        }
      ]
    },
    {
      "cell_type": "code",
      "metadata": {
        "id": "iB5XQ23mQvSR",
        "colab_type": "code",
        "colab": {},
        "outputId": "3331b7e4-d946-4aad-de29-9bee60edb978"
      },
      "source": [
        "for i in range(20):\n",
        "    print(np.random.choice(x))"
      ],
      "execution_count": 0,
      "outputs": [
        {
          "output_type": "stream",
          "text": [
            "3\n",
            "4\n",
            "3\n",
            "1\n",
            "4\n",
            "1\n",
            "3\n",
            "1\n",
            "2\n",
            "4\n",
            "3\n",
            "1\n",
            "3\n",
            "4\n",
            "1\n",
            "4\n",
            "2\n",
            "3\n",
            "4\n",
            "4\n"
          ],
          "name": "stdout"
        }
      ]
    },
    {
      "cell_type": "code",
      "metadata": {
        "id": "21byUSfoQvSU",
        "colab_type": "code",
        "colab": {}
      },
      "source": [
        ""
      ],
      "execution_count": 0,
      "outputs": []
    },
    {
      "cell_type": "code",
      "metadata": {
        "id": "NnP7FWleQvSY",
        "colab_type": "code",
        "colab": {},
        "outputId": "3c51919d-92fd-4241-b48f-b8030ab69463"
      },
      "source": [
        "np.random.permutation(x)"
      ],
      "execution_count": 0,
      "outputs": [
        {
          "output_type": "execute_result",
          "data": {
            "text/plain": [
              "array([3, 4, 2, 1])"
            ]
          },
          "metadata": {
            "tags": []
          },
          "execution_count": 23
        }
      ]
    },
    {
      "cell_type": "code",
      "metadata": {
        "id": "iRMnQgBTQvSb",
        "colab_type": "code",
        "colab": {},
        "outputId": "1f032e1b-8637-4fcf-b422-efb972d0cf5d"
      },
      "source": [
        "np.random.permutation(x)"
      ],
      "execution_count": 0,
      "outputs": [
        {
          "output_type": "execute_result",
          "data": {
            "text/plain": [
              "array([2, 4, 1, 3])"
            ]
          },
          "metadata": {
            "tags": []
          },
          "execution_count": 24
        }
      ]
    },
    {
      "cell_type": "code",
      "metadata": {
        "id": "9bog-qGxQvSe",
        "colab_type": "code",
        "colab": {}
      },
      "source": [
        ""
      ],
      "execution_count": 0,
      "outputs": []
    }
  ]
}