{
  "nbformat": 4,
  "nbformat_minor": 0,
  "metadata": {
    "kernelspec": {
      "display_name": "Python 3",
      "language": "python",
      "name": "python3"
    },
    "language_info": {
      "codemirror_mode": {
        "name": "ipython",
        "version": 3
      },
      "file_extension": ".py",
      "mimetype": "text/x-python",
      "name": "python",
      "nbconvert_exporter": "python",
      "pygments_lexer": "ipython3",
      "version": "3.6.5"
    },
    "colab": {
      "name": "String operations Comparison and information.ipynb",
      "provenance": [],
      "include_colab_link": true
    }
  },
  "cells": [
    {
      "cell_type": "markdown",
      "metadata": {
        "id": "view-in-github",
        "colab_type": "text"
      },
      "source": [
        "<a href=\"https://colab.research.google.com/github/AbdurRafiq/Numpy-Data-Stucture-Python/blob/master/String_operations_Comparison_and_information.ipynb\" target=\"_parent\"><img src=\"https://colab.research.google.com/assets/colab-badge.svg\" alt=\"Open In Colab\"/></a>"
      ]
    },
    {
      "cell_type": "code",
      "metadata": {
        "id": "h4nuHFKfQ4aN",
        "colab_type": "code",
        "colab": {}
      },
      "source": [
        "import numpy as np"
      ],
      "execution_count": 0,
      "outputs": []
    },
    {
      "cell_type": "code",
      "metadata": {
        "id": "YzdpA6gwQ4aS",
        "colab_type": "code",
        "colab": {}
      },
      "source": [
        "ch_name= \"BD AI Production\"\n",
        "str1 = \"Learing Python Numpy\"\n"
      ],
      "execution_count": 0,
      "outputs": []
    },
    {
      "cell_type": "code",
      "metadata": {
        "id": "RgV1s-P_Q4aW",
        "colab_type": "code",
        "colab": {},
        "outputId": "bec730ce-abaf-490f-a66d-209cd0e6c507"
      },
      "source": [
        "np.char.add(ch_name,str1)"
      ],
      "execution_count": 0,
      "outputs": [
        {
          "output_type": "execute_result",
          "data": {
            "text/plain": [
              "array('BD AI ProductionLearing Python Numpy', dtype='<U36')"
            ]
          },
          "metadata": {
            "tags": []
          },
          "execution_count": 8
        }
      ]
    },
    {
      "cell_type": "code",
      "metadata": {
        "id": "nSxQgGpIQ4ac",
        "colab_type": "code",
        "colab": {},
        "outputId": "c1599f41-c975-4949-cb0a-bbd446c24a34"
      },
      "source": [
        "np.char.lower(ch_name)"
      ],
      "execution_count": 0,
      "outputs": [
        {
          "output_type": "execute_result",
          "data": {
            "text/plain": [
              "array('bd ai production', dtype='<U16')"
            ]
          },
          "metadata": {
            "tags": []
          },
          "execution_count": 9
        }
      ]
    },
    {
      "cell_type": "code",
      "metadata": {
        "id": "FGKdqaWuQ4ag",
        "colab_type": "code",
        "colab": {},
        "outputId": "f4e89f6c-3c98-4b53-a814-77acc12ab049"
      },
      "source": [
        "np.char.upper(ch_name)"
      ],
      "execution_count": 0,
      "outputs": [
        {
          "output_type": "execute_result",
          "data": {
            "text/plain": [
              "array('BD AI PRODUCTION', dtype='<U16')"
            ]
          },
          "metadata": {
            "tags": []
          },
          "execution_count": 10
        }
      ]
    },
    {
      "cell_type": "code",
      "metadata": {
        "id": "KL6zRTkkQ4aj",
        "colab_type": "code",
        "colab": {},
        "outputId": "96a3c5a2-f816-4d8e-fac3-ce6bc6c39732"
      },
      "source": [
        "np.char.center(str1,60,fillchar=\"*\")"
      ],
      "execution_count": 0,
      "outputs": [
        {
          "output_type": "execute_result",
          "data": {
            "text/plain": [
              "array('********************Learing Python Numpy********************',\n",
              "      dtype='<U60')"
            ]
          },
          "metadata": {
            "tags": []
          },
          "execution_count": 13
        }
      ]
    },
    {
      "cell_type": "code",
      "metadata": {
        "id": "aSNlDglQQ4am",
        "colab_type": "code",
        "colab": {},
        "outputId": "48399fe6-7f2c-4b4c-9ecb-6c6a310e0623"
      },
      "source": [
        "np.char.split(ch_name)"
      ],
      "execution_count": 0,
      "outputs": [
        {
          "output_type": "execute_result",
          "data": {
            "text/plain": [
              "array(list(['BD', 'AI', 'Production']), dtype=object)"
            ]
          },
          "metadata": {
            "tags": []
          },
          "execution_count": 15
        }
      ]
    },
    {
      "cell_type": "code",
      "metadata": {
        "id": "f4wA2tHGQ4ar",
        "colab_type": "code",
        "colab": {},
        "outputId": "a3e8a97e-d398-4778-e24d-e50ada0b49dd"
      },
      "source": [
        "np.char.splitlines(\"Hello\\nBangladeshi\")"
      ],
      "execution_count": 0,
      "outputs": [
        {
          "output_type": "execute_result",
          "data": {
            "text/plain": [
              "array(list(['Hello', 'Bangladeshi']), dtype=object)"
            ]
          },
          "metadata": {
            "tags": []
          },
          "execution_count": 18
        }
      ]
    },
    {
      "cell_type": "code",
      "metadata": {
        "id": "bGuiOjGzQ4au",
        "colab_type": "code",
        "colab": {},
        "outputId": "f6b5a88c-7560-47e0-f198-f09f743c802c"
      },
      "source": [
        "str4 = \"dmy\"\n",
        "str5 = \"dmy\"\n",
        "np.char.join([\":\",\"/\"],[str4,str5])"
      ],
      "execution_count": 0,
      "outputs": [
        {
          "output_type": "execute_result",
          "data": {
            "text/plain": [
              "array(['d:m:y', 'd/m/y'], dtype='<U5')"
            ]
          },
          "metadata": {
            "tags": []
          },
          "execution_count": 19
        }
      ]
    },
    {
      "cell_type": "code",
      "metadata": {
        "id": "pfv_BwIIQ4ax",
        "colab_type": "code",
        "colab": {},
        "outputId": "4f37f622-bff7-490c-9442-365563c19d95"
      },
      "source": [
        "np.char.replace(ch_name,\"AI\" ,\"Artificial Intelligence\")"
      ],
      "execution_count": 0,
      "outputs": [
        {
          "output_type": "execute_result",
          "data": {
            "text/plain": [
              "array('BD Artificial Intelligence Production', dtype='<U37')"
            ]
          },
          "metadata": {
            "tags": []
          },
          "execution_count": 21
        }
      ]
    },
    {
      "cell_type": "code",
      "metadata": {
        "id": "BihTagWLQ4a2",
        "colab_type": "code",
        "colab": {},
        "outputId": "273e169f-505c-4e70-e866-d58d94a377e2"
      },
      "source": [
        "np.char.equal(str4,ch_name)"
      ],
      "execution_count": 0,
      "outputs": [
        {
          "output_type": "execute_result",
          "data": {
            "text/plain": [
              "array(False)"
            ]
          },
          "metadata": {
            "tags": []
          },
          "execution_count": 23
        }
      ]
    },
    {
      "cell_type": "code",
      "metadata": {
        "id": "ff5HMT1KQ4a5",
        "colab_type": "code",
        "colab": {},
        "outputId": "4a6f0ee6-0768-4959-c6dd-553f29af4976"
      },
      "source": [
        "np.char.count(ch_name,\"i\")"
      ],
      "execution_count": 0,
      "outputs": [
        {
          "output_type": "execute_result",
          "data": {
            "text/plain": [
              "array(1)"
            ]
          },
          "metadata": {
            "tags": []
          },
          "execution_count": 25
        }
      ]
    },
    {
      "cell_type": "code",
      "metadata": {
        "id": "e8cD0Ab-Q4bB",
        "colab_type": "code",
        "colab": {},
        "outputId": "c7417b72-faa5-4f1e-b5dd-6410f6cb400c"
      },
      "source": [
        "np.char.find(ch_name,\"AI\")"
      ],
      "execution_count": 0,
      "outputs": [
        {
          "output_type": "execute_result",
          "data": {
            "text/plain": [
              "array(3)"
            ]
          },
          "metadata": {
            "tags": []
          },
          "execution_count": 26
        }
      ]
    },
    {
      "cell_type": "code",
      "metadata": {
        "id": "h_J_eVdQQ4bD",
        "colab_type": "code",
        "colab": {}
      },
      "source": [
        ""
      ],
      "execution_count": 0,
      "outputs": []
    }
  ]
}